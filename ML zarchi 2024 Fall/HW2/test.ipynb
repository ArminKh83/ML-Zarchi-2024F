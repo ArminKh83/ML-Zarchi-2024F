{
 "cells": [
  {
   "cell_type": "code",
   "execution_count": 2,
   "id": "initial_id",
   "metadata": {
    "collapsed": true,
    "ExecuteTime": {
     "end_time": "2024-11-01T16:17:04.590338Z",
     "start_time": "2024-11-01T16:17:04.001121Z"
    }
   },
   "outputs": [],
   "source": [
    "import numpy as np\n",
    "import matplotlib.pyplot as plt\n",
    "from sklearn.neighbors import KNeighborsClassifier\n",
    "from sklearn.model_selection import LeaveOneOut, cross_val_score\n",
    "\n",
    "\n",
    "class_pos = np.array([\n",
    "    [2, 7], [3, 8], [5, 1], [6, 2], [7, 3], [8, 4], [9, 5]\n",
    "])\n",
    "class_neg = np.array([\n",
    "    [1, 5], [2, 6], [3, 7], [4, 8], [5, 9], [7, 2], [8, 3]\n",
    "])\n",
    "\n",
    "X = np.vstack((class_pos, class_neg))\n",
    "y = np.array([1] * len(class_pos) + [0] * len(class_neg))  \n",
    "\n"
   ]
  },
  {
   "cell_type": "code",
   "outputs": [
    {
     "data": {
      "text/plain": "{1: 0.0,\n 2: 0.35714285714285715,\n 3: 0.42857142857142855,\n 4: 0.21428571428571427,\n 5: 0.2857142857142857,\n 6: 0.2857142857142857,\n 7: 0.2857142857142857,\n 8: 0.2857142857142857,\n 9: 0.2857142857142857,\n 10: 0.5,\n 11: 0.42857142857142855,\n 12: 0.5714285714285714,\n 13: 0.42857142857142855,\n 14: 0.5}"
     },
     "execution_count": 3,
     "metadata": {},
     "output_type": "execute_result"
    }
   ],
   "source": [
    "\n",
    "# (a) Calculate classification error for different k values\n",
    "errors = {}\n",
    "for k in range(1, 15):  # test k from 1 to 9\n",
    "    knn = KNeighborsClassifier(n_neighbors=k)\n",
    "    knn.fit(X, y)\n",
    "    predictions = knn.predict(X)\n",
    "    print\n",
    "    error_rate = np.mean(predictions != y)\n",
    "    errors[k] = error_rate\n",
    "errors"
   ],
   "metadata": {
    "collapsed": false,
    "ExecuteTime": {
     "end_time": "2024-11-01T16:17:04.603060Z",
     "start_time": "2024-11-01T16:17:04.591178Z"
    }
   },
   "id": "99e4aeeed28e8e35",
   "execution_count": 3
  },
  {
   "cell_type": "code",
   "outputs": [
    {
     "data": {
      "text/plain": "{1: 0.7142857142857143,\n 2: 0.7142857142857143,\n 3: 0.4285714285714286,\n 4: 0.6428571428571428,\n 5: 0.2857142857142857,\n 6: 0.3571428571428571,\n 7: 0.2857142857142857,\n 8: 0.6428571428571428,\n 9: 1.0,\n 10: 0.7142857142857143,\n 11: 1.0,\n 12: 0.7142857142857143,\n 13: 1.0}"
     },
     "execution_count": 4,
     "metadata": {},
     "output_type": "execute_result"
    }
   ],
   "source": [
    "\n",
    "loo = LeaveOneOut()\n",
    "loo_errors = {}\n",
    "for k in range(1, 14):\n",
    "    knn = KNeighborsClassifier(n_neighbors=k)\n",
    "    scores = cross_val_score(knn, X, y, cv=loo, scoring=\"accuracy\")\n",
    "    loo_errors[k] = 1 - np.mean(scores)  \n",
    "loo_errors\n",
    "\n"
   ],
   "metadata": {
    "collapsed": false,
    "ExecuteTime": {
     "end_time": "2024-11-01T16:17:04.721756Z",
     "start_time": "2024-11-01T16:17:04.603755Z"
    }
   },
   "id": "c5ee9193bb8dcd81",
   "execution_count": 4
  },
  {
   "cell_type": "code",
   "outputs": [
    {
     "data": {
      "text/plain": "<Figure size 800x600 with 1 Axes>",
      "image/png": "[encoded data removed]"
     },
     "metadata": {},
     "output_type": "display_data"
    },
    {
     "data": {
      "text/plain": "({1: 0.0,\n  2: 0.35714285714285715,\n  3: 0.42857142857142855,\n  4: 0.21428571428571427,\n  5: 0.2857142857142857,\n  6: 0.2857142857142857,\n  7: 0.2857142857142857,\n  8: 0.2857142857142857,\n  9: 0.2857142857142857,\n  10: 0.5,\n  11: 0.42857142857142855,\n  12: 0.5714285714285714,\n  13: 0.42857142857142855,\n  14: 0.5},\n {1: 0.7142857142857143,\n  2: 0.7142857142857143,\n  3: 0.4285714285714286,\n  4: 0.6428571428571428,\n  5: 0.2857142857142857,\n  6: 0.3571428571428571,\n  7: 0.2857142857142857,\n  8: 0.6428571428571428,\n  9: 1.0,\n  10: 0.7142857142857143,\n  11: 1.0,\n  12: 0.7142857142857143,\n  13: 1.0})"
     },
     "execution_count": 5,
     "metadata": {},
     "output_type": "execute_result"
    }
   ],
   "source": [
    "# (d) Plot decision boundary for 1-NN\n",
    "knn_1 = KNeighborsClassifier(n_neighbors=1)\n",
    "knn_1.fit(X, y)\n",
    "\n",
    "# Create a grid of points for decision boundary\n",
    "x_min, x_max = 0, 10\n",
    "y_min, y_max = 0, 10\n",
    "xx, yy = np.meshgrid(np.arange(x_min, x_max, 0.1), np.arange(y_min, y_max, 0.1))\n",
    "Z = knn_1.predict(np.c_[xx.ravel(), yy.ravel()])\n",
    "Z = Z.reshape(xx.shape)\n",
    "\n",
    "# Plot results\n",
    "plt.figure(figsize=(8, 6))\n",
    "plt.contourf(xx, yy, Z, alpha=0.3, cmap=plt.cm.coolwarm)\n",
    "plt.scatter(class_pos[:, 0], class_pos[:, 1], c='green', marker='+', label=\"Class +\")\n",
    "plt.scatter(class_neg[:, 0], class_neg[:, 1], c='blue ', marker='x', label=\"Class -\")\n",
    "plt.title(\"1-NN Decision Boundary\")\n",
    "plt.xlabel(\"Feature 1\")\n",
    "plt.ylabel(\"Feature 2\")\n",
    "plt.legend()\n",
    "plt.show()\n",
    "\n",
    "errors, loo_errors\n"
   ],
   "metadata": {
    "collapsed": false,
    "ExecuteTime": {
     "end_time": "2024-11-01T16:17:04.868671Z",
     "start_time": "2024-11-01T16:17:04.722518Z"
    }
   },
   "id": "ce6bb3fcb7e6bd55",
   "execution_count": 5
  },
  {
   "cell_type": "code",
   "outputs": [],
   "source": [
    "arr = np.array([[1.5,-1.5],\n",
    "                [-1.5,-2.5],\n",
    "                [-0.5,2.5],\n",
    "                [0.5,1.5]])\n",
    "\n",
    "\n",
    "arr2 = np.array([[4,1],\n",
    "                [1,0],\n",
    "                [2,5],\n",
    "                [3,4]])"
   ],
   "metadata": {
    "collapsed": false,
    "ExecuteTime": {
     "end_time": "2024-11-01T17:27:04.376633Z",
     "start_time": "2024-11-01T17:27:04.374028Z"
    }
   },
   "id": "db6d34d6c8e2d7f3",
   "execution_count": 21
  },
  {
   "cell_type": "code",
   "outputs": [
    {
     "name": "stdout",
     "output_type": "stream",
     "text": [
      "[[1.33105012]\n",
      " [0.08276253]\n",
      " [5.16552506]\n",
      " [4.24828759]]\n",
      "[[-47.33105012]\n",
      " [-12.08276253]\n",
      " [-19.16552506]\n",
      " [-32.24828759]]\n"
     ]
    }
   ],
   "source": [
    "v2 = np.array([[-6 + np.sqrt(37)],[1]])\n",
    "v1 = np.array([[-6 - np.sqrt(37)],[1]])\n",
    "\n",
    "print((arr2 @ v2) )\n",
    "print((arr2 @ v1) )"
   ],
   "metadata": {
    "collapsed": false,
    "ExecuteTime": {
     "end_time": "2024-11-01T17:28:04.046123Z",
     "start_time": "2024-11-01T17:28:04.042494Z"
    }
   },
   "id": "fb15b9f08f610d42",
   "execution_count": 23
  },
  {
   "cell_type": "code",
   "outputs": [],
   "source": [],
   "metadata": {
    "collapsed": false
   },
   "id": "20486731359b7d07"
  }
 ],
 "metadata": {
  "kernelspec": {
   "display_name": "Python 3",
   "language": "python",
   "name": "python3"
  },
  "language_info": {
   "codemirror_mode": {
    "name": "ipython",
    "version": 2
   },
   "file_extension": ".py",
   "mimetype": "text/x-python",
   "name": "python",
   "nbconvert_exporter": "python",
   "pygments_lexer": "ipython2",
   "version": "2.7.6"
  }
 },
 "nbformat": 4,
 "nbformat_minor": 5
}
