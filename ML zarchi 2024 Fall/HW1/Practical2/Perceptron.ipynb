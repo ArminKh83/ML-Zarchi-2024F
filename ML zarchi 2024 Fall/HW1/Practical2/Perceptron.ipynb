{
 "cells": [
  {
   "cell_type": "markdown",
   "metadata": {
    "id": "y09iFsmx2Vcw"
   },
   "source": [
    "<img src='./pic/sharif-main-logo.png' alt=\"SUT logo\" width=300 height=300 align=left class=\"saturate\" > <br>\n",
    "\n",
    "<div dir=ltr align=center>\n",
    "<font color=0F5298 size=7>\n",
    "    یادگیری ماشین <br>\n",
    "<font color=2565AE size=5>\n",
    "    دانشکده مهندسی کامپیوتر <br>\n",
    "    پاییز ۱۴۰۳ <br>\n",
    "<font color=3C99D size=5>\n",
    "   تمرین عملی اول - یادگیری نظارت شده <br>\n",
    "<font color=696880 size=4>\n",
    "    عرفان سلیما - سارینا حشمتی - نیکان واسعی - فاطمه شیری"
   ]
  },
  {
   "cell_type": "markdown",
   "metadata": {
    "id": "y09iFsmx2Vcw"
   },
   "source": [
    "<div dir=rtl>\n",
    "<font size=6>\n",
    "اطلاعات دانشجو"
   ]
  },
  {
   "cell_type": "code",
   "execution_count": 1,
   "metadata": {
    "ExecuteTime": {
     "end_time": "2024-10-11T17:20:08.463055Z",
     "start_time": "2024-10-11T17:20:08.459520Z"
    }
   },
   "outputs": [],
   "source": [
    "student_number = '401105872'\n",
    "Name = 'Armin'\n",
    "Last_Name = 'Khosravi'"
   ]
  },
  {
   "cell_type": "markdown",
   "metadata": {
    "id": "y09iFsmx2Vcw"
   },
   "source": [
    "<div dir=rtl>\n",
    "<font size=6>\n",
    "نحوه پیاده سازی"
   ]
  },
  {
   "cell_type": "code",
   "outputs": [],
   "source": [
    "import numpy as np\n",
    "import random\n",
    "import matplotlib.pyplot as plt\n"
   ],
   "metadata": {
    "collapsed": false,
    "ExecuteTime": {
     "end_time": "2024-10-11T17:20:08.807786Z",
     "start_time": "2024-10-11T17:20:08.470118Z"
    }
   },
   "execution_count": 2
  },
  {
   "cell_type": "markdown",
   "metadata": {
    "id": "lCUAtWN522T4"
   },
   "source": [
    "<div dir=rtl>\n",
    "<font size=4>\n",
    " با استفاده از تابع make_blobs از کتابخانه sklearn به کمک قطعه کد\n",
    "زیر، مجموعه داده ای بسازید که به صورت خطی\n",
    "جدایی پذیر باشد. هر ستون از ماتریس X شامل ویژگی های یک نمونه داده است."
   ]
  },
  {
   "cell_type": "code",
   "execution_count": 3,
   "metadata": {
    "id": "sbBYk18H2TVg",
    "ExecuteTime": {
     "end_time": "2024-10-11T17:20:09.234706Z",
     "start_time": "2024-10-11T17:20:08.809236Z"
    }
   },
   "outputs": [],
   "source": [
    "from sklearn.datasets import make_blobs\n",
    "\n",
    "# i change the n_features because of 2D visualization\n",
    "X, Y = make_blobs(n_samples=100, n_features=2, centers=2, random_state=41)\n"
   ]
  },
  {
   "cell_type": "code",
   "outputs": [
    {
     "data": {
      "text/plain": "array([[  3.29059705, -11.06454901],\n       [  2.78637996,  -8.78030401],\n       [ -5.77222806,  -9.24887243],\n       [  2.43248981,  -8.05817632],\n       [  4.26822243, -10.09704048],\n       [ -4.53241887, -10.02054615],\n       [ -4.85702585,  -8.96957489],\n       [ -4.82261808,  -8.69000797],\n       [ -3.81554312,  -9.02886909],\n       [  4.29654309,  -8.63599225],\n       [  3.51139898, -10.30283834],\n       [  2.90219825,  -9.69209316],\n       [ -4.09382546,  -9.02043195],\n       [ -6.3908568 , -10.17638081],\n       [  4.07900714,  -8.8018452 ],\n       [ -3.20765074,  -8.52230054],\n       [  4.24104702,  -8.67104189],\n       [  5.90166972,  -8.37970436],\n       [  3.96809073,  -9.0715136 ],\n       [ -5.55118147, -10.0552338 ],\n       [  6.50064716,  -8.20575988],\n       [ -5.62607864,  -8.41655193],\n       [ -5.42082879,  -9.79164396],\n       [  5.89687577,  -8.52035006],\n       [ -5.31163391, -10.59337353],\n       [ -6.20774337, -10.02609057],\n       [ -5.79983524, -10.0404672 ],\n       [  3.7749447 ,  -9.88178759],\n       [ -5.31107196, -11.91016227],\n       [ -4.10802279,  -7.94298339],\n       [ -5.75215924,  -9.11179488],\n       [  4.17758739,  -9.06755437],\n       [ -3.68856268,  -9.97339563],\n       [  3.57282242,  -9.42505916],\n       [  4.28781477,  -7.98173128],\n       [  4.83374494,  -8.84756284],\n       [  2.63809114,  -8.83369388],\n       [  4.64374983,  -8.20145682],\n       [  3.28868813,  -9.50811304],\n       [ -3.7331757 ,  -6.56774067],\n       [ -3.86721393, -10.45888618],\n       [ -6.16408119,  -9.13292961],\n       [  3.15337979,  -7.49425474],\n       [  3.26545364,  -9.25946873],\n       [  3.44946027,  -7.91559473],\n       [  3.62591009,  -9.46523477],\n       [ -6.21547825,  -9.58565335],\n       [  2.33053397, -10.32139666],\n       [ -3.57435603, -10.01918064],\n       [ -5.46827859, -10.07905415],\n       [  3.83334338,  -8.57862909],\n       [  4.20602502,  -9.22459282],\n       [ -4.2306562 , -10.34079628],\n       [ -5.15286398,  -9.53613872],\n       [ -4.73099971, -10.00328355],\n       [  2.03275055,  -9.14201949],\n       [ -3.96610301,  -8.8540023 ],\n       [ -5.13520348,  -8.28823178],\n       [  2.61314084,  -9.80236974],\n       [ -5.59130553,  -7.6086672 ],\n       [ -6.60091288,  -8.43518892],\n       [ -4.41438386, -10.1182638 ],\n       [ -3.48884869,  -8.37095836],\n       [ -3.37181325,  -8.21817684],\n       [ -3.78146734, -10.90070273],\n       [ -3.61367651, -10.93682301],\n       [ -5.71371252, -10.50636655],\n       [  4.14638867,  -8.6698881 ],\n       [  3.80895168,  -9.69629369],\n       [ -4.54418976,  -8.65985404],\n       [  2.51075935,  -9.385163  ],\n       [ -4.47058078,  -8.4467842 ],\n       [  5.00718294, -10.68482833],\n       [  2.51810338, -11.04857903],\n       [  3.95134502,  -9.27616818],\n       [  2.30171973,  -7.65981363],\n       [ -5.73396111,  -7.91928862],\n       [ -5.54983818, -11.18970194],\n       [ -6.84001778, -10.44870736],\n       [  3.34450556,  -9.91901395],\n       [ -6.01438677,  -7.93565621],\n       [ -4.04734657,  -9.01942805],\n       [  4.15752047,  -9.80310399],\n       [  3.84698883, -10.21181951],\n       [  3.22822801,  -8.73231006],\n       [ -6.99074488,  -9.31152317],\n       [  4.20645835,  -9.62615455],\n       [  3.93250092,  -8.61391719],\n       [ -5.96673056, -10.03645191],\n       [  3.79654392, -10.61444948],\n       [  4.41180845,  -8.08504064],\n       [ -4.71214298,  -9.52450796],\n       [ -3.17757516, -11.02675425],\n       [ -6.32030904,  -7.75802066],\n       [  5.01834311,  -9.00383188],\n       [  2.77318252,  -8.80037349],\n       [  4.50945294,  -9.85938167],\n       [  3.49836267,  -9.11775464],\n       [ -5.5302395 ,  -7.99806783],\n       [  2.08489879,  -8.47749638]])"
     },
     "execution_count": 4,
     "metadata": {},
     "output_type": "execute_result"
    }
   ],
   "source": [
    "X"
   ],
   "metadata": {
    "collapsed": false,
    "ExecuteTime": {
     "end_time": "2024-10-11T17:20:09.239907Z",
     "start_time": "2024-10-11T17:20:09.235371Z"
    }
   },
   "execution_count": 4
  },
  {
   "cell_type": "code",
   "outputs": [
    {
     "data": {
      "text/plain": "array([ 1,  1, -1,  1,  1, -1, -1, -1, -1,  1,  1,  1, -1, -1,  1, -1,  1,\n        1,  1, -1,  1, -1, -1,  1, -1, -1, -1,  1, -1, -1, -1,  1, -1,  1,\n        1,  1,  1,  1,  1, -1, -1, -1,  1,  1,  1,  1, -1,  1, -1, -1,  1,\n        1, -1, -1, -1,  1, -1, -1,  1, -1, -1, -1, -1, -1, -1, -1, -1,  1,\n        1, -1,  1, -1,  1,  1,  1,  1, -1, -1, -1,  1, -1, -1,  1,  1,  1,\n       -1,  1,  1, -1,  1,  1, -1, -1, -1,  1,  1,  1,  1, -1,  1])"
     },
     "execution_count": 5,
     "metadata": {},
     "output_type": "execute_result"
    }
   ],
   "source": [
    "# i apply this function because the sign function return 1 and -1 in the most of cases\n",
    "\n",
    "Y = np.where(Y == 0, -1, 1)\n",
    "\n",
    "Y"
   ],
   "metadata": {
    "collapsed": false,
    "ExecuteTime": {
     "end_time": "2024-10-11T17:20:09.244090Z",
     "start_time": "2024-10-11T17:20:09.240791Z"
    }
   },
   "execution_count": 5
  },
  {
   "cell_type": "code",
   "outputs": [
    {
     "name": "stdout",
     "output_type": "stream",
     "text": [
      "X shape: (100, 2)\n",
      "y shape : (100,)\n"
     ]
    }
   ],
   "source": [
    "print(f'X shape: {X.shape}')\n",
    "print(f\"y shape : {Y.shape}\")"
   ],
   "metadata": {
    "collapsed": false,
    "ExecuteTime": {
     "end_time": "2024-10-11T17:20:09.246465Z",
     "start_time": "2024-10-11T17:20:09.244675Z"
    }
   },
   "execution_count": 6
  },
  {
   "cell_type": "markdown",
   "metadata": {
    "id": "SFi-rRwJ3E3-"
   },
   "source": [
    "<div dir=rtl>\n",
    "<font size=4>\n",
    " ابتدا کلاسی به نام F در نظر بگیرید و یکی از متد های آن را به نام sign پیاده سازی کنید. متدهای این کلاس متعلق به کلاس\n",
    "هستند و باید به صورت static تعریف شوند. در حقیقت این کلاس مسئول نگهداری توابع کاربردی برای انجام محاسبات\n",
    "است که در اینجا ما فقط میخواهیم sign را تعریف کنیم."
   ]
  },
  {
   "cell_type": "code",
   "execution_count": 7,
   "metadata": {
    "id": "ta3SQGNJ3OeO",
    "ExecuteTime": {
     "end_time": "2024-10-11T17:20:13.032504Z",
     "start_time": "2024-10-11T17:20:13.030085Z"
    }
   },
   "outputs": [],
   "source": [
    "class F:\n",
    "    @staticmethod\n",
    "    def sign(x):\n",
    "        if x > 0:\n",
    "            return 1\n",
    "        elif x < 0:\n",
    "            return -1\n",
    "        else:\n",
    "            return 0\n"
   ]
  },
  {
   "cell_type": "markdown",
   "metadata": {
    "id": "prCJVzUh3Wd5"
   },
   "source": [
    "<div dir=rtl>\n",
    "<font size=4>\n",
    " کلاس Perceptron را مانند تکه کد زیر در نظر بگیرید. این موجودیت تنها وظیفه نگهداری وزن های پرسپترون ما و محاسبه\n",
    "y براساس ورودی ما یعنی X را دارد. برای مقدار دهی اولیه وزن ها و بایاس میتوانید از کتابخانه numpy استفاده کنید."
   ]
  },
  {
   "cell_type": "code",
   "execution_count": 188,
   "metadata": {
    "id": "FRApiOaV3khr",
    "ExecuteTime": {
     "end_time": "2024-10-11T17:06:49.986064Z",
     "start_time": "2024-10-11T17:06:49.983812Z"
    }
   },
   "outputs": [],
   "source": [
    "class Perceptron:\n",
    "    def __init__(self, input_size):\n",
    "        # Initialize the weights and biases of the new model\n",
    "        # X (n_samples , n_features)\n",
    "\n",
    "        # https://pyimagesearch.com/2021/05/06/implementing-the-perceptron-neural-network-with-python/\n",
    "        # i choose my init Initialization method based on above link\n",
    "        self.W = np.random.randn(input_size) / np.sqrt(input_size)\n",
    "        self.b = 0\n",
    "\n",
    "    def forward(self, input):\n",
    "        # Feed input features to your model and return output\n",
    "        return F.sign(self.W.T @ input + self.b)\n"
   ]
  },
  {
   "cell_type": "markdown",
   "metadata": {
    "id": "WF8lQoZA3pgt"
   },
   "source": [
    "<div dir=rtl>\n",
    "<font size=4>\n",
    "حال کلاس Optimizer را مطابق قطعه کد زیر پیاده سازی کنید. این کلاس وظیفه این را دارد که مدل ما را بهینه کند. بدین\n",
    "معنی که در هر مرحله از یادگیری سعی کند وزن ها را در جهتی بروزرسانی کند که در نهایت ما هیچ خطایی نداشته باشیم (با\n",
    "فرض خطی جدایی پذیر بودن داده ها)"
   ]
  },
  {
   "cell_type": "code",
   "execution_count": 193,
   "metadata": {
    "id": "ksQEHkz54HeO",
    "ExecuteTime": {
     "end_time": "2024-10-11T17:06:57.143686Z",
     "start_time": "2024-10-11T17:06:57.139803Z"
    }
   },
   "outputs": [],
   "source": [
    "class Optimizer:\n",
    "    def __init__(self, model, lr=0.6):\n",
    "        self.model = model\n",
    "        self.lr = lr\n",
    "\n",
    "    def update(self, x, y, y_hat):\n",
    "        # Update weight and bias of the model\n",
    "\n",
    "        if y != y_hat:\n",
    "            self.model.W += self.lr * (y - y_hat) * x\n",
    "            self.model.b += self.lr * (y - y_hat)\n"
   ]
  },
  {
   "cell_type": "markdown",
   "metadata": {
    "id": "lHKc8Rpc4KT2"
   },
   "source": [
    "<div dir=rtl>\n",
    "<font size=4>\n",
    "با توجه به تعداد ویژگی های داده های موجود، یک شی Perceptron بسازید (این پارامتر باید با تعداد ویژگی های قسمت\n",
    "اول یکسان باشد) در مرحله بعدی به Optimizer اجازه دهید تا به مدل شما دسترسی داشته باشد تا بتواند آن را بهینه کند."
   ]
  },
  {
   "cell_type": "markdown",
   "metadata": {
    "id": "FAwckbDH4TIa"
   },
   "source": [
    "<div dir=rtl>\n",
    "<font size=4>\n",
    "در این قسمت شما باید با پیاده سازی فرآیندی مناسب با استفاده از instance های Optimizer و Perceptron وضعیت\n",
    "مدل را بهبود بدهید تا به ابر صفحه جدا کننده نزدیک تر شود."
   ]
  },
  {
   "cell_type": "code",
   "outputs": [],
   "source": [
    "n_iter = 1000\n",
    "\n",
    "model = Perceptron(X.shape[1])\n",
    "optimizer = Optimizer(model)\n",
    "\n",
    "for _ in range(n_iter):\n",
    "    for x, y in zip(X, Y):\n",
    "        y_hat = model.forward(x)\n",
    "        optimizer.update(x, y, y_hat)\n"
   ],
   "metadata": {
    "collapsed": false,
    "ExecuteTime": {
     "end_time": "2024-10-11T17:06:50.134807Z",
     "start_time": "2024-10-11T17:06:50.021812Z"
    }
   },
   "execution_count": 190
  },
  {
   "cell_type": "code",
   "outputs": [
    {
     "name": "stdout",
     "output_type": "stream",
     "text": [
      "Final Weights and Bias:\n",
      "Weight 0: 7.646673381946675\n",
      "Weight 1: -1.7835122896755493\n",
      "Bias: 0.0\n"
     ]
    }
   ],
   "source": [
    "print(\"Final Weights and Bias:\")\n",
    "\n",
    "for i, w in enumerate(model.W):\n",
    "    print(f\"Weight {i}: {w}\")\n",
    "print(f\"Bias: {model.b}\")\n"
   ],
   "metadata": {
    "collapsed": false,
    "ExecuteTime": {
     "end_time": "2024-10-11T17:06:50.138554Z",
     "start_time": "2024-10-11T17:06:50.135797Z"
    }
   },
   "execution_count": 191
  },
  {
   "cell_type": "markdown",
   "metadata": {
    "id": "bg5D9ooD4c-_"
   },
   "source": [
    "<div dir=rtl>\n",
    "<font size=4>\n",
    "به ازای n_features برابر ۲ نقاط مجموعه داده ی خود و خط حاصل از Perceptron خود را به کمک کتابخانه Ⅿatpⅼotⅼib\n",
    "در فضای ۲ بعدی نمایش دهید."
   ]
  },
  {
   "cell_type": "code",
   "outputs": [],
   "source": [
    "# Plot data points\n",
    "# here by A i mean +1 and By B i mean -1\n",
    "\n",
    "def get_line(w0, w1, b, x0):\n",
    "    # our line format w0*x0 + w1 * x1 + b = 0  --> x1 = (-b - w0*x0) /w1\n",
    "    return (-b - w0 * x0) / w1\n",
    "\n",
    "\n",
    "\n",
    "\n",
    "def plot_2D(ax,model):\n",
    "\n",
    "    \n",
    "    w0, w1 = model.W\n",
    "    b = model.b\n",
    "    \n",
    "    x_values = np.linspace(np.min(X[:, 0]), np.max(X[:, 0]), 100)\n",
    "    y_values = get_line(w0, w1, b, x_values)\n",
    "    \n",
    "    classA = X[Y == 1]\n",
    "    classB = X[Y == -1]\n",
    "    \n",
    "\n",
    "    \n",
    "    plt.scatter(classA[:, 0], classA[:, 1], color='orange', label='Class A (+1)', marker='o', s=100,\n",
    "                alpha=0.7)\n",
    "    plt.scatter(classB[:, 0], classB[:, 1], color='red', label='Class B (-1)', marker='x', s=100, alpha=0.7)\n",
    "    \n",
    "    plt.plot(x_values, y_values, color='black', linewidth=2, linestyle='--', label='Decision Boundary')\n",
    "    plt.title('Perceptron Decision Boundary')\n",
    "    plt.xlabel('Feature 1')\n",
    "    plt.ylabel('Feature 2')\n",
    "    \n",
    "    plt.grid(True, linestyle='--', alpha=0.5)\n",
    "    plt.legend()\n",
    "    plt.xlim(np.min(X[:, 0]) - 1, np.max(X[:, 0]) + 1)\n",
    "    plt.ylim(np.min(X[:, 1]) - 1, np.max(X[:, 1]) + 1)\n",
    "    \n",
    "    \n",
    "    plt.tight_layout()\n",
    "    plt.show()\n",
    "\n"
   ],
   "metadata": {
    "collapsed": false,
    "is_executing": true
   },
   "execution_count": null
  },
  {
   "cell_type": "code",
   "outputs": [
    {
     "data": {
      "text/plain": "<Figure size 640x480 with 1 Axes>",
      "image/png": "[encoded data removed]"
     },
     "metadata": {},
     "output_type": "display_data"
    }
   ],
   "source": [
    "plot_2D(model)"
   ],
   "metadata": {
    "collapsed": false,
    "ExecuteTime": {
     "end_time": "2024-10-11T17:15:14.665792Z",
     "start_time": "2024-10-11T17:15:14.563679Z"
    }
   },
   "execution_count": 208
  }
 ],
 "metadata": {
  "colab": {
   "provenance": []
  },
  "kernelspec": {
   "display_name": "Python 3 (ipykernel)",
   "language": "python",
   "name": "python3"
  },
  "language_info": {
   "codemirror_mode": {
    "name": "ipython",
    "version": 3
   },
   "file_extension": ".py",
   "mimetype": "text/x-python",
   "name": "python",
   "nbconvert_exporter": "python",
   "pygments_lexer": "ipython3",
   "version": "3.11.3"
  }
 },
 "nbformat": 4,
 "nbformat_minor": 1
}
